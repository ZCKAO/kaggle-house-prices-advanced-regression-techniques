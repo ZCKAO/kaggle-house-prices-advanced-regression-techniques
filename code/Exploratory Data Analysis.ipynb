{
 "cells": [
  {
   "cell_type": "code",
   "execution_count": 2,
   "id": "5362dd70-be4d-47bb-b852-1f19ca2e178e",
   "metadata": {
    "collapsed": true,
    "jupyter": {
     "outputs_hidden": true
    },
    "tags": []
   },
   "outputs": [
    {
     "name": "stdout",
     "output_type": "stream",
     "text": [
      "# packages in environment at /opt/homebrew/Caskroom/miniforge/base/envs/Kaggle_house:\n",
      "#\n",
      "# Name                    Version                   Build  Channel\n",
      "anyio                     3.6.2              pyhd8ed1ab_0    conda-forge\n",
      "appnope                   0.1.3              pyhd8ed1ab_0    conda-forge\n",
      "argon2-cffi               21.3.0             pyhd8ed1ab_0    conda-forge\n",
      "argon2-cffi-bindings      21.2.0           py39h02fc5c5_3    conda-forge\n",
      "arrow                     1.2.3                    pypi_0    pypi\n",
      "asttokens                 2.2.1              pyhd8ed1ab_0    conda-forge\n",
      "attrs                     22.2.0             pyh71513ae_0    conda-forge\n",
      "babel                     2.11.0             pyhd8ed1ab_0    conda-forge\n",
      "backcall                  0.2.0              pyh9f0ad1d_0    conda-forge\n",
      "backports                 1.0                pyhd8ed1ab_3    conda-forge\n",
      "backports.functools_lru_cache 1.6.4              pyhd8ed1ab_0    conda-forge\n",
      "beautifulsoup4            4.11.1             pyha770c72_0    conda-forge\n",
      "bleach                    5.0.1              pyhd8ed1ab_0    conda-forge\n",
      "brotlipy                  0.7.0           py39h02fc5c5_1005    conda-forge\n",
      "bzip2                     1.0.8                h3422bc3_4    conda-forge\n",
      "ca-certificates           2022.12.7            h4653dfc_0    conda-forge\n",
      "certifi                   2022.12.7                pypi_0    pypi\n",
      "cffi                      1.15.1           py39h7e6b969_3    conda-forge\n",
      "charset-normalizer        2.1.1              pyhd8ed1ab_0    conda-forge\n",
      "comm                      0.1.2              pyhd8ed1ab_0    conda-forge\n",
      "cryptography              39.0.0           py39he2a39a8_0    conda-forge\n",
      "debugpy                   1.6.5            py39h23fbdae_0    conda-forge\n",
      "decorator                 5.1.1              pyhd8ed1ab_0    conda-forge\n",
      "defusedxml                0.7.1              pyhd8ed1ab_0    conda-forge\n",
      "entrypoints               0.4                pyhd8ed1ab_0    conda-forge\n",
      "executing                 1.2.0              pyhd8ed1ab_0    conda-forge\n",
      "flit-core                 3.8.0              pyhd8ed1ab_0    conda-forge\n",
      "fqdn                      1.5.1                    pypi_0    pypi\n",
      "idna                      3.4                pyhd8ed1ab_0    conda-forge\n",
      "importlib-metadata        6.0.0              pyha770c72_0    conda-forge\n",
      "importlib_resources       5.10.2             pyhd8ed1ab_0    conda-forge\n",
      "ipykernel                 6.19.4             pyh736e0ef_0    conda-forge\n",
      "ipython                   8.8.0              pyhd1c38e8_0    conda-forge\n",
      "ipython-genutils          0.2.0                    pypi_0    pypi\n",
      "ipython_genutils          0.2.0                      py_1    conda-forge\n",
      "isoduration               20.11.0                  pypi_0    pypi\n",
      "jedi                      0.18.2             pyhd8ed1ab_0    conda-forge\n",
      "jinja2                    3.1.2              pyhd8ed1ab_1    conda-forge\n",
      "json5                     0.9.11                   pypi_0    pypi\n",
      "jsonpointer               2.3                      pypi_0    pypi\n",
      "jsonschema                4.17.3             pyhd8ed1ab_0    conda-forge\n",
      "jupyter_client            7.4.8              pyhd8ed1ab_0    conda-forge\n",
      "jupyter_core              5.1.2            py39h2804cbe_0    conda-forge\n",
      "jupyter_events            0.5.0              pyhd8ed1ab_1    conda-forge\n",
      "jupyter_server            2.0.6              pyhd8ed1ab_0    conda-forge\n",
      "jupyter_server_terminals  0.4.3              pyhd8ed1ab_0    conda-forge\n",
      "jupyterlab                3.5.2              pyhd8ed1ab_0    conda-forge\n",
      "jupyterlab_pygments       0.2.2              pyhd8ed1ab_0    conda-forge\n",
      "jupyterlab_server         2.18.0             pyhd8ed1ab_0    conda-forge\n",
      "libcxx                    14.0.6               h2692d47_0    conda-forge\n",
      "libffi                    3.4.2                h3422bc3_5    conda-forge\n",
      "libsodium                 1.0.18               h27ca646_1    conda-forge\n",
      "libsqlite                 3.40.0               h76d750c_0    conda-forge\n",
      "libzlib                   1.2.13               h03a7124_4    conda-forge\n",
      "markupsafe                2.1.1            py39h02fc5c5_2    conda-forge\n",
      "matplotlib-inline         0.1.6              pyhd8ed1ab_0    conda-forge\n",
      "mistune                   2.0.4              pyhd8ed1ab_0    conda-forge\n",
      "nbclassic                 0.4.8              pyhd8ed1ab_0    conda-forge\n",
      "nbclient                  0.7.2              pyhd8ed1ab_0    conda-forge\n",
      "nbconvert                 7.2.7              pyhd8ed1ab_0    conda-forge\n",
      "nbconvert-core            7.2.7              pyhd8ed1ab_0    conda-forge\n",
      "nbconvert-pandoc          7.2.7              pyhd8ed1ab_0    conda-forge\n",
      "nbformat                  5.7.1              pyhd8ed1ab_0    conda-forge\n",
      "ncurses                   6.3                  h07bb92c_1    conda-forge\n",
      "nest-asyncio              1.5.6              pyhd8ed1ab_0    conda-forge\n",
      "notebook                  6.5.2              pyha770c72_1    conda-forge\n",
      "notebook-shim             0.2.2              pyhd8ed1ab_0    conda-forge\n",
      "openssl                   3.0.7                h03a7124_1    conda-forge\n",
      "packaging                 22.0               pyhd8ed1ab_0    conda-forge\n",
      "pandoc                    2.19.2               hce30654_1    conda-forge\n",
      "pandocfilters             1.5.0              pyhd8ed1ab_0    conda-forge\n",
      "parso                     0.8.3              pyhd8ed1ab_0    conda-forge\n",
      "pexpect                   4.8.0              pyh1a96a4e_2    conda-forge\n",
      "pickleshare               0.7.5                   py_1003    conda-forge\n",
      "pip                       22.3.1             pyhd8ed1ab_0    conda-forge\n",
      "pkgutil-resolve-name      1.3.10             pyhd8ed1ab_0    conda-forge\n",
      "platformdirs              2.6.2              pyhd8ed1ab_0    conda-forge\n",
      "prometheus_client         0.15.0             pyhd8ed1ab_0    conda-forge\n",
      "prompt-toolkit            3.0.36             pyha770c72_0    conda-forge\n",
      "psutil                    5.9.4            py39h02fc5c5_0    conda-forge\n",
      "ptyprocess                0.7.0              pyhd3deb0d_0    conda-forge\n",
      "pure_eval                 0.2.2              pyhd8ed1ab_0    conda-forge\n",
      "pycparser                 2.21               pyhd8ed1ab_0    conda-forge\n",
      "pygments                  2.14.0             pyhd8ed1ab_0    conda-forge\n",
      "pyopenssl                 23.0.0             pyhd8ed1ab_0    conda-forge\n",
      "pyrsistent                0.19.3           py39h02fc5c5_0    conda-forge\n",
      "pysocks                   1.7.1              pyha2e5f31_6    conda-forge\n",
      "python                    3.9.15          hea58f1e_0_cpython    conda-forge\n",
      "python-dateutil           2.8.2              pyhd8ed1ab_0    conda-forge\n",
      "python-fastjsonschema     2.16.2             pyhd8ed1ab_0    conda-forge\n",
      "python-json-logger        2.0.4              pyhd8ed1ab_0    conda-forge\n",
      "python_abi                3.9                      3_cp39    conda-forge\n",
      "pytz                      2022.7             pyhd8ed1ab_0    conda-forge\n",
      "pyyaml                    6.0              py39h02fc5c5_5    conda-forge\n",
      "pyzmq                     24.0.1           py39h0553236_1    conda-forge\n",
      "readline                  8.1.2                h46ed386_0    conda-forge\n",
      "requests                  2.28.1             pyhd8ed1ab_1    conda-forge\n",
      "rfc3339-validator         0.1.4                    pypi_0    pypi\n",
      "rfc3986-validator         0.1.1                    pypi_0    pypi\n",
      "send2trash                1.8.0              pyhd8ed1ab_0    conda-forge\n",
      "setuptools                65.6.3             pyhd8ed1ab_0    conda-forge\n",
      "six                       1.16.0             pyh6c4a22f_0    conda-forge\n",
      "sniffio                   1.3.0              pyhd8ed1ab_0    conda-forge\n",
      "soupsieve                 2.3.2.post1        pyhd8ed1ab_0    conda-forge\n",
      "stack_data                0.6.2              pyhd8ed1ab_0    conda-forge\n",
      "terminado                 0.17.1             pyhd1c38e8_0    conda-forge\n",
      "tinycss2                  1.2.1              pyhd8ed1ab_0    conda-forge\n",
      "tk                        8.6.12               he1e0b03_0    conda-forge\n",
      "tomli                     2.0.1              pyhd8ed1ab_0    conda-forge\n",
      "tornado                   6.2              py39h02fc5c5_1    conda-forge\n",
      "traitlets                 5.8.0              pyhd8ed1ab_0    conda-forge\n",
      "typing-extensions         4.4.0                hd8ed1ab_0    conda-forge\n",
      "typing_extensions         4.4.0              pyha770c72_0    conda-forge\n",
      "tzdata                    2022g                h191b570_0    conda-forge\n",
      "uri-template              1.2.0                    pypi_0    pypi\n",
      "urllib3                   1.26.13            pyhd8ed1ab_0    conda-forge\n",
      "wcwidth                   0.2.5              pyh9f0ad1d_2    conda-forge\n",
      "webcolors                 1.12                     pypi_0    pypi\n",
      "webencodings              0.5.1                    pypi_0    pypi\n",
      "websocket-client          1.4.2              pyhd8ed1ab_0    conda-forge\n",
      "wheel                     0.38.4             pyhd8ed1ab_0    conda-forge\n",
      "xz                        5.2.6                h57fd34a_0    conda-forge\n",
      "yaml                      0.2.5                h3422bc3_2    conda-forge\n",
      "zeromq                    4.3.4                hbdafb3b_1    conda-forge\n",
      "zipp                      3.11.0             pyhd8ed1ab_0    conda-forge\n",
      "\n",
      "Note: you may need to restart the kernel to use updated packages.\n"
     ]
    }
   ],
   "source": [
    "import pandas as pd\n",
    "import numpy as np\n",
    "import matplotlib.pyplot as plt\n",
    "import seaborn as sns"
   ]
  },
  {
   "cell_type": "code",
   "execution_count": null,
   "id": "bfb358a4-3537-45fa-9060-b5872c4340f0",
   "metadata": {},
   "outputs": [],
   "source": [
    "df_train = pd.read_csv(\"./raw_data/train.csv\")\n",
    "df_train"
   ]
  },
  {
   "cell_type": "code",
   "execution_count": null,
   "id": "e8db5ce3-1f72-4203-863e-a2625b241f17",
   "metadata": {},
   "outputs": [],
   "source": [
    "df_train['SalePrice'].describe()"
   ]
  },
  {
   "cell_type": "code",
   "execution_count": null,
   "id": "6d3d0a04-457a-4bbd-b157-ec68e92b1c5d",
   "metadata": {},
   "outputs": [],
   "source": [
    "sns.distplot(df_train['SalePrice'])"
   ]
  },
  {
   "cell_type": "code",
   "execution_count": null,
   "id": "47f2564e-ab09-4d02-96e8-9c05f3a38cac",
   "metadata": {},
   "outputs": [],
   "source": [
    "#correlation matrix\n",
    "corrmat = df_train.corr()\n",
    "plt.figure(figsize=(12, 9)) \n",
    "sns.heatmap(corrmat, vmax=.8, square=True);"
   ]
  },
  {
   "cell_type": "code",
   "execution_count": null,
   "id": "919acfdd-a7e8-4f7e-b833-25b004e7f5b6",
   "metadata": {},
   "outputs": [],
   "source": [
    "#saleprice correlation matrix\n",
    "k = 10 #number of variables for heatmap\n",
    "cols = corrmat.nlargest(k, 'SalePrice')['SalePrice'].index\n",
    "cm = np.corrcoef(df_train[cols].values.T)\n",
    "sns.set(font_scale=1.25)\n",
    "hm = sns.heatmap(cm, cbar=True, annot=True, square=True, fmt='.2f', annot_kws={'size': 10}, yticklabels=cols.values, xticklabels=cols.values)\n",
    "plt.show()"
   ]
  },
  {
   "cell_type": "code",
   "execution_count": null,
   "id": "9743befd-520c-4c5e-bd89-e6b7eeeece95",
   "metadata": {},
   "outputs": [],
   "source": [
    "#scatterplot\n",
    "sns.set()\n",
    "cols = ['SalePrice', 'OverallQual', 'GrLivArea', 'GarageCars', 'TotalBsmtSF', 'FullBath', 'YearBuilt']\n",
    "sns.pairplot(df_train[cols], size = 2.5)\n",
    "plt.show();"
   ]
  },
  {
   "cell_type": "code",
   "execution_count": null,
   "id": "a7f3501d-ebe0-4334-864f-3d49f5e7748c",
   "metadata": {},
   "outputs": [],
   "source": [
    "total = df_train.isnull().sum().sort_values(ascending=False)\n",
    "percent = (df_train.isnull().sum()/df_train.isnull().count()).sort_values(ascending=False)\n",
    "missing_data = pd.concat([total, percent], axis=1, keys=['Total', 'Percent'])\n",
    "missing_data.head(20)"
   ]
  },
  {
   "cell_type": "code",
   "execution_count": null,
   "id": "06fd1751-dfcd-4c3b-8a6c-b4e22aae9052",
   "metadata": {},
   "outputs": [],
   "source": []
  },
  {
   "cell_type": "code",
   "execution_count": null,
   "id": "728dda2e-ba87-47ea-8136-1817f892534b",
   "metadata": {},
   "outputs": [],
   "source": []
  },
  {
   "cell_type": "code",
   "execution_count": null,
   "id": "3adfbd38-fe96-497b-9071-25fe88143bac",
   "metadata": {},
   "outputs": [],
   "source": []
  }
 ],
 "metadata": {
  "kernelspec": {
   "display_name": "Kaggle_house",
   "language": "python",
   "name": "kaggle_house"
  },
  "language_info": {
   "codemirror_mode": {
    "name": "ipython",
    "version": 3
   },
   "file_extension": ".py",
   "mimetype": "text/x-python",
   "name": "python",
   "nbconvert_exporter": "python",
   "pygments_lexer": "ipython3",
   "version": "3.9.15"
  }
 },
 "nbformat": 4,
 "nbformat_minor": 5
}
